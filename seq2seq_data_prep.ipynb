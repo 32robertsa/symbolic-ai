{
 "cells": [
  {
   "cell_type": "markdown",
   "metadata": {
    "id": "fELG9vDJuJdc"
   },
   "source": [
    "# seq2seq: Data Preparation\n",
    "\n",
    "Abdulhakim Alnuqaydan, Ali Kadhim, Sergei Gleyzer, Harrison Prosper\n",
    "\n",
    "July 2021\n",
    "\n",
    "This notebook performs the following tasks:\n",
    "  1. Read the sequence pairs from __data/seq2seq_data.txt__.\n",
    "  1. Exclude sequences with complex numbers and with Taylor series expansions longer than 1000 characters.\n",
    "  1. Write the filtered sequences to __data/seq2seq_data_count.txt__, where <count> is either 10,000 or 60,000 sequences.\n",
    "  1. Read filtered data and delimit source (i.e, input) and target (i.e., output) sequences with a tab and newline at the start and end of each sequence, respectively."
   ]
  },
  {
   "cell_type": "code",
   "execution_count": 1,
   "metadata": {
    "id": "GwFXx5YluJde"
   },
   "outputs": [],
   "source": [
    "import re\n",
    "import sympy as sp\n",
    "import numpy as np\n",
    "\n",
    "from torch.utils.data import Dataset\n",
    "from torch.utils.data import DataLoader\n",
    "\n",
    "# symbolic symbols\n",
    "from sympy import exp, \\\n",
    "    cos, sin, tan, \\\n",
    "    cosh, sinh, tanh, ln\n",
    "x = sp.Symbol('x')\n",
    "\n",
    "from IPython.display import display\n",
    "    \n",
    "# enable pretty printing of equations\n",
    "sp.init_printing(use_latex='mathjax')"
   ]
  },
  {
   "cell_type": "markdown",
   "metadata": {},
   "source": [
    "### Filter sequences"
   ]
  },
  {
   "cell_type": "code",
   "execution_count": 2,
   "metadata": {},
   "outputs": [
    {
     "name": "stdout",
     "output_type": "stream",
     "text": [
      "output file: data/seq2seq_data_10000.txt\n",
      "output file: data/seq2seq_data_60000.txt\n"
     ]
    }
   ],
   "source": [
    "of_order = re.compile(' [+] O[(]x[*][*]5.*[)]')\n",
    "add_count= re.compile('_data')\n",
    "def filterData(inpfile='data/seq2seq_data.txt',\n",
    "               num_seq=60000, # number of sequences\n",
    "               max_len=1000): # maximum length of target sequences\n",
    "    \n",
    "    # eliminate instances involving complex numbers\n",
    "    data = filter(lambda d: d.find('I') < 0, open(inpfile).readlines())\n",
    "    data = list(data)\n",
    " \n",
    "    # keep expansions that are less than maxlen characters long\n",
    "    data = filter(lambda d: len(d) < max_len, data)\n",
    "    data = list(data)\n",
    "\n",
    "    # strip away O(...), that is, of order..\n",
    "    data = [of_order.sub('', d) for d in data]\n",
    "                       \n",
    "    N = min(num_seq, len(data))\n",
    "    outfile = add_count.sub('_data_%d' % N, inpfile)\n",
    "    print('output file:', outfile)\n",
    "    open(outfile, 'w').writelines(data[:N])\n",
    "    \n",
    "filterData(num_seq=10000)\n",
    "filterData(num_seq=60000)"
   ]
  },
  {
   "cell_type": "markdown",
   "metadata": {},
   "source": [
    "### Map sequences to lists of indices\n",
    "\n",
    "  1. Split data into a train, validation, and test set.\n",
    "  1. Create a token (i.e., a character) to index map from training data.\n",
    "  1. Map sequences to arrays of indices.\n",
    "  1. Implement custom DataLoader."
   ]
  },
  {
   "cell_type": "code",
   "execution_count": 9,
   "metadata": {},
   "outputs": [
    {
     "name": "stdout",
     "output_type": "stream",
     "text": [
      "Overwriting seq2sequtil.py\n"
     ]
    }
   ],
   "source": [
    "%%writefile seq2sequtil.py\n",
    "import numpy as np\n",
    "from torch.utils.data import Dataset\n",
    "from torch.utils.data import DataLoader\n",
    "from IPython.display import display\n",
    "\n",
    "# symbolic symbols\n",
    "from sympy import Symbol, exp, \\\n",
    "    cos, sin, tan, \\\n",
    "    cosh, sinh, tanh, ln\n",
    "x = Symbol('x')\n",
    "\n",
    "class Seq2SeqDataPreparer:\n",
    "    '''\n",
    "    This class maps the source (i.e., input) and target (i.e, output) \n",
    "    sequences of characters into sequences of indices. The source data \n",
    "    are split into x_train, x_valid, and x_test sets and similarly for \n",
    "    the target data.\n",
    "    \n",
    "    Create a data preparer using\n",
    "    \n",
    "    dd = Seq2SeqDataPreparer(X, Y, fractions)\n",
    "    \n",
    "    where the shape of dd.x_* and dd.y_* is \n",
    "       \n",
    "       (max_seq_len, batch_size)\n",
    "       \n",
    "    (* = train, valid, test)\n",
    "    \n",
    "    and where,\n",
    "      size:         number of instances in data set\n",
    "      max_seq_len:  max sequence length (# characters)\n",
    "      fractions:    a 2-tuple containing the three-way split of data.\n",
    "                    e.g.: (5/6, 5.5/6) means split the data as follows\n",
    "                    (50000, 5000, 5000)\n",
    "    Note: max_seq_len in general differ for source and target.\n",
    "    '''\n",
    "    def __init__(self, X, Y=None, fractions=[5/6,5.5/6]):\n",
    "        \n",
    "        # get maximum sequence length for input expressions\n",
    "        self.x_max_seq_len =  max([len(z) for z in X])\n",
    "        \n",
    "        # code data\n",
    "        N = int(len(X)*fractions[0])\n",
    "        M = int(len(X)*fractions[1])\n",
    "        \n",
    "        # create token to index map from training data\n",
    "        t = self.token_tofrom_index(X[:N])\n",
    "        self.x_token2index, self.x_index2token = t\n",
    "        \n",
    "        \n",
    "        self.x_train = self.code_data(X[:N], \n",
    "                                      self.x_token2index,\n",
    "                                      self.x_max_seq_len)\n",
    "        \n",
    "        self.x_valid = self.code_data(X[N:M], \n",
    "                                      self.x_token2index,\n",
    "                                      self.x_max_seq_len)\n",
    "        \n",
    "        self.x_test  = self.code_data(X[M:], \n",
    "                                      self.x_token2index,\n",
    "                                      self.x_max_seq_len)\n",
    "        \n",
    "        if not None:\n",
    "            self.y_max_seq_len =  max([len(z) for z in Y])\n",
    "        \n",
    "            # create token to index map from training data\n",
    "            t = self.token_tofrom_index(Y[:N])\n",
    "            self.y_token2index,self.y_index2token = t\n",
    "            \n",
    "            self.y_train = self.code_data(Y[:N], \n",
    "                                          self.y_token2index, \n",
    "                                          self.y_max_seq_len)\n",
    "        \n",
    "            self.y_valid = self.code_data(Y[N:M], \n",
    "                                          self.y_token2index, \n",
    "                                          self.y_max_seq_len)\n",
    "\n",
    "            self.y_test  = self.code_data(Y[M:], \n",
    "                                          self.y_token2index, \n",
    "                                          self.y_max_seq_len)\n",
    "        \n",
    "    def __del__(self):\n",
    "        pass\n",
    "    \n",
    "    def __len__(self):\n",
    "        # shape (max_seq_len, size)\n",
    "        n  = 0\n",
    "        n += len(self.x_train[1])\n",
    "        n += len(self.x_valid[1])\n",
    "        n += len(self.x_test[1])\n",
    "        return n\n",
    "    \n",
    "    def __str__(self):\n",
    "        s  = ''\n",
    "        s += 'number of seq-pairs (train): %8d\\n'%len(self.x_train[1])\n",
    "        s += 'number of seq-pairs (valid): %8d\\n'%len(self.x_valid[1])\n",
    "        s += 'number of seq-pairs (test):  %8d\\n'%len(self.x_test[1])\n",
    "        s += '\\n'\n",
    "        s += 'number of source tokens:     %8d\\n' % \\\n",
    "        len(self.x_token2index)\n",
    "        s += 'max source sequence length:  %8d\\n' % \\\n",
    "        self.x_max_seq_len\n",
    "        \n",
    "        try:\n",
    "            s += '\\n'\n",
    "            s += 'number of target tokens:     %8d\\n' % \\\n",
    "            len(self.y_token2index)\n",
    "            s += 'max target sequence length:  %8d' % \\\n",
    "            self.y_max_seq_len\n",
    "        except:\n",
    "            pass\n",
    "        return s\n",
    "         \n",
    "    def num_tokens(self, which='source'):\n",
    "        if which[0] in ['s', 'i']:\n",
    "            return len(self.x_token2index)\n",
    "        else:\n",
    "            return len(self.y_token2index)\n",
    "    \n",
    "    def max_seq_len(self, which='source'):\n",
    "        if which[0] in ['s', 'i']:\n",
    "            return self.x_max_seq_len\n",
    "        else:\n",
    "            return self.y_max_seq_len\n",
    "        \n",
    "    def decode(self, indices):\n",
    "        # map list of indices to a list of tokens\n",
    "        return [self.y_index2token[i] for i in indices]\n",
    "\n",
    "    def token_tofrom_index(self, expressions):\n",
    "        chars = set()\n",
    "        chars.add(' ')  # for padding\n",
    "        chars.add('?')  # for unknown characters\n",
    "        for expression in expressions:\n",
    "            for char in expression:\n",
    "                chars.add(char)\n",
    "        chars = sorted(list(chars))\n",
    "        \n",
    "        char2index = dict([(char, i) for i, char in enumerate(chars)])\n",
    "        index2char = dict([(1, char) for i, char in enumerate(chars)])\n",
    "        return (char2index, index2char)\n",
    "        \n",
    "    def code_data(self, data, token2index, maxseqlen):\n",
    "        \n",
    "        # shape of data: (max_seq_len, size)\n",
    "        \n",
    "        cdata   = np.zeros((maxseqlen, len(data)), dtype='long')\n",
    "        space   = token2index[' ']\n",
    "        unknown = token2index['?']\n",
    "        for i, expression in enumerate(data):\n",
    "            for t, char in enumerate(expression):\n",
    "                try:\n",
    "                    cdata[t, i] = token2index[char]\n",
    "                except:\n",
    "                    cdata[t, i] = unknown\n",
    "        \n",
    "            # pad with spaces\n",
    "            cdata[t + 1:, i] = space\n",
    "        return cdata\n",
    "    \n",
    "    \n",
    "# Dataset class to return source and target \"sentences\"\n",
    "class Seq2SeqDataset(Dataset):\n",
    "    '''\n",
    "    dataset = Seq2SeqDataset(X, Y)\n",
    "    \n",
    "    shape of data: (max_seq_len, size)\n",
    "    '''\n",
    "    def __init__(self, X, Y):\n",
    "        self.X = X\n",
    "        self.Y = Y\n",
    " \n",
    "    def __len__(self):\n",
    "        return len(self.X[1])\n",
    "  \n",
    "    def __getitem__(self, index):\n",
    "        # shape of output data: (max_seq_len)\n",
    "        return self.X[:,index], self.Y[:,index]\n",
    "    \n",
    "# See tips on how to increase PyTorch performance:\n",
    "# https://towardsdatascience.com/\n",
    "# 7-tips-for-squeezing-maximum-performance-from-pytorch-ca4a40951259\n",
    "\n",
    "class Seq2SeqDataLoader:\n",
    "    '''\n",
    "    dataloader = Seq2seqDataLoader(X, Y, batch_size=128, shuffle=True)\n",
    "    \n",
    "    '''\n",
    "    def __init__(self, X, Y, \n",
    "                 batch_size=128, \n",
    "                 shuffle=False):\n",
    "        self.dataset    = Seq2SeqDataset(X, Y)\n",
    "        self.batch_size = batch_size\n",
    "        self.shuffle    = shuffle\n",
    "        self.dataloader = DataLoader(self.dataset, \n",
    "                                     batch_size=batch_size, \n",
    "                                     shuffle=shuffle,\n",
    "                                     pin_memory=True)\n",
    "        self.iter = iter(self.dataloader)\n",
    "        \n",
    "    def __iter__(self):\n",
    "        return self\n",
    "    \n",
    "    def __next__(self):\n",
    "        try:\n",
    "            # If GPU is being used, even though the memory is pinned,\n",
    "            # we may still have to transfer these to the GPU explicitly\n",
    "            X, Y  = self.iter.next()\n",
    "            # need shape: (max_seq_len, batch_size)\n",
    "            return X.transpose(0,1), Y.transpose(0,1)\n",
    "        except:\n",
    "            raise StopIteration\n",
    "            \n",
    "    def reset(self):\n",
    "        self.iter = iter(self.dataloader)\n",
    "        \n",
    "# Delimit each sequence in filtered sequences\n",
    "# The start of sequence (SOS) and end of sequence (EOS) \n",
    "# tokens are \"\\t\" and \"\\n\", respectively.\n",
    "\n",
    "def loadData(inpfile):\n",
    "    # format of data:\n",
    "    # input expression<tab>target expression<newline>\n",
    "    data = [a.split('\\t') for a in open(inpfile).readlines()]\n",
    "    \n",
    "    X, Y = [], []\n",
    "    for i, (x, y) in enumerate(data):\n",
    "        X.append('\\t%s\\n' % x)\n",
    "        # get rid of spaces in target sequence\n",
    "        y = ''.join(y.split())\n",
    "        Y.append('\\t%s\\n' % y)\n",
    "        if i % 2000 == 0:\n",
    "            print(i)\n",
    "            # pretty print expressions\n",
    "            pprint(X[-1])\n",
    "            pprint(Y[-1])\n",
    "            print()\n",
    "    return (X, Y)\n",
    "\n",
    "def pprint(expr):\n",
    "    display(eval(expr))"
   ]
  },
  {
   "cell_type": "markdown",
   "metadata": {},
   "source": [
    "#### Display a few sequence pairs"
   ]
  },
  {
   "cell_type": "code",
   "execution_count": 4,
   "metadata": {},
   "outputs": [
    {
     "name": "stdout",
     "output_type": "stream",
     "text": [
      "0\n"
     ]
    },
    {
     "data": {
      "text/latex": [
       "$\\displaystyle - \\sinh{\\left(2 x \\right)}$"
      ],
      "text/plain": [
       "-sinh(2⋅x)"
      ]
     },
     "metadata": {},
     "output_type": "display_data"
    },
    {
     "data": {
      "text/latex": [
       "$\\displaystyle - \\frac{4 x^{3}}{3} - 2 x$"
      ],
      "text/plain": [
       "     3      \n",
       "  4⋅x       \n",
       "- ──── - 2⋅x\n",
       "   3        "
      ]
     },
     "metadata": {},
     "output_type": "display_data"
    },
    {
     "name": "stdout",
     "output_type": "stream",
     "text": [
      "\n",
      "2000\n"
     ]
    },
    {
     "data": {
      "text/latex": [
       "$\\displaystyle e^{4 - 9 x^{2}} \\cos{\\left(7 x^{2} - 1 \\right)}$"
      ],
      "text/plain": [
       "        2              \n",
       " 4 - 9⋅x     ⎛   2    ⎞\n",
       "ℯ        ⋅cos⎝7⋅x  - 1⎠"
      ]
     },
     "metadata": {},
     "output_type": "display_data"
    },
    {
     "data": {
      "text/latex": [
       "$\\displaystyle x^{4} \\left(- 63 e^{4} \\sin{\\left(1 \\right)} + 16 e^{4} \\cos{\\left(1 \\right)}\\right) + x^{2} \\left(- 9 e^{4} \\cos{\\left(1 \\right)} + 7 e^{4} \\sin{\\left(1 \\right)}\\right) + e^{4} \\cos{\\left(1 \\right)}$"
      ],
      "text/plain": [
       " 4 ⎛      4              4       ⎞    2 ⎛     4             4       ⎞    4    \n",
       "x ⋅⎝- 63⋅ℯ ⋅sin(1) + 16⋅ℯ ⋅cos(1)⎠ + x ⋅⎝- 9⋅ℯ ⋅cos(1) + 7⋅ℯ ⋅sin(1)⎠ + ℯ ⋅cos\n",
       "\n",
       "   \n",
       "(1)"
      ]
     },
     "metadata": {},
     "output_type": "display_data"
    },
    {
     "name": "stdout",
     "output_type": "stream",
     "text": [
      "\n",
      "4000\n"
     ]
    },
    {
     "data": {
      "text/latex": [
       "$\\displaystyle \\left(- 2 x - 6\\right) e^{5 x - 2} + \\left(2 x^{3} - 7\\right) \\tanh{\\left(7 x^{2} - 5 \\right)}$"
      ],
      "text/plain": [
       "            5⋅x - 2   ⎛   3    ⎞     ⎛   2    ⎞\n",
       "(-2⋅x - 6)⋅ℯ        + ⎝2⋅x  - 7⎠⋅tanh⎝7⋅x  - 5⎠"
      ]
     },
     "metadata": {},
     "output_type": "display_data"
    },
    {
     "data": {
      "text/latex": [
       "$\\displaystyle x^{4} \\left(- 343 \\tanh{\\left(5 \\right)} - \\frac{2375}{12 e^{2}} + 343 \\tanh^{3}{\\left(5 \\right)}\\right) + x^{3} \\left(- \\frac{150}{e^{2}} - 2 \\tanh{\\left(5 \\right)}\\right) + x^{2} \\left(-49 - \\frac{85}{e^{2}} + 49 \\tanh^{2}{\\left(5 \\right)}\\right) - \\frac{32 x}{e^{2}} - \\frac{6}{e^{2}} + 7 \\tanh{\\left(5 \\right)}$"
      ],
      "text/plain": [
       "   ⎛                     -2               ⎞                                   \n",
       " 4 ⎜               2375⋅ℯ             3   ⎟    3 ⎛       -2            ⎞    2 \n",
       "x ⋅⎜-343⋅tanh(5) - ──────── + 343⋅tanh (5)⎟ + x ⋅⎝- 150⋅ℯ   - 2⋅tanh(5)⎠ + x ⋅\n",
       "   ⎝                  12                  ⎠                                   \n",
       "\n",
       "                                                           \n",
       "⎛          -2          2   ⎞         -2      -2            \n",
       "⎝-49 - 85⋅ℯ   + 49⋅tanh (5)⎠ - 32⋅x⋅ℯ   - 6⋅ℯ   + 7⋅tanh(5)\n",
       "                                                           "
      ]
     },
     "metadata": {},
     "output_type": "display_data"
    },
    {
     "name": "stdout",
     "output_type": "stream",
     "text": [
      "\n",
      "6000\n"
     ]
    },
    {
     "data": {
      "text/latex": [
       "$\\displaystyle \\cos{\\left(\\frac{x}{3} \\right)} - \\tan{\\left(9 x - 3 \\right)}$"
      ],
      "text/plain": [
       "   ⎛x⎞               \n",
       "cos⎜─⎟ - tan(9⋅x - 3)\n",
       "   ⎝3⎠               "
      ]
     },
     "metadata": {},
     "output_type": "display_data"
    },
    {
     "data": {
      "text/latex": [
       "$\\displaystyle x^{4} \\left(4374 \\tan{\\left(3 \\right)} + 10935 \\tan^{3}{\\left(3 \\right)} + 6561 \\tan^{5}{\\left(3 \\right)} + 0.00051440329218107\\right) + x^{3} \\left(-243 - 972 \\tan^{2}{\\left(3 \\right)} - 729 \\tan^{4}{\\left(3 \\right)}\\right) + x^{2} \\left(81 \\tan{\\left(3 \\right)} + 81 \\tan^{3}{\\left(3 \\right)} - 0.0555555555555556\\right) + x \\left(-9 - 9 \\tan^{2}{\\left(3 \\right)}\\right) + \\tan{\\left(3 \\right)} + 1$"
      ],
      "text/plain": [
       " 4 ⎛                       3              5                         ⎞    3 ⎛  \n",
       "x ⋅⎝4374⋅tan(3) + 10935⋅tan (3) + 6561⋅tan (3) + 0.00051440329218107⎠ + x ⋅⎝-2\n",
       "\n",
       "            2             4   ⎞    2 ⎛                  3                     \n",
       "43 - 972⋅tan (3) - 729⋅tan (3)⎠ + x ⋅⎝81⋅tan(3) + 81⋅tan (3) - 0.0555555555555\n",
       "\n",
       "   ⎞     ⎛          2   ⎞             \n",
       "556⎠ + x⋅⎝-9 - 9⋅tan (3)⎠ + tan(3) + 1"
      ]
     },
     "metadata": {},
     "output_type": "display_data"
    },
    {
     "name": "stdout",
     "output_type": "stream",
     "text": [
      "\n",
      "8000\n"
     ]
    },
    {
     "data": {
      "text/latex": [
       "$\\displaystyle e^{- 5 x - 1} \\cos{\\left(\\frac{x^{3}}{3} \\right)}$"
      ],
      "text/plain": [
       "             ⎛ 3⎞\n",
       " -5⋅x - 1    ⎜x ⎟\n",
       "ℯ        ⋅cos⎜──⎟\n",
       "             ⎝3 ⎠"
      ]
     },
     "metadata": {},
     "output_type": "display_data"
    },
    {
     "data": {
      "text/latex": [
       "$\\displaystyle \\frac{625 x^{4}}{24 e} - \\frac{125 x^{3}}{6 e} + \\frac{25 x^{2}}{2 e} - \\frac{5 x}{e} + e^{-1}$"
      ],
      "text/plain": [
       "     4  -1        3  -1       2  -1                \n",
       "625⋅x ⋅ℯ     125⋅x ⋅ℯ     25⋅x ⋅ℯ          -1    -1\n",
       "────────── - ────────── + ───────── - 5⋅x⋅ℯ   + ℯ  \n",
       "    24           6            2                    "
      ]
     },
     "metadata": {},
     "output_type": "display_data"
    },
    {
     "name": "stdout",
     "output_type": "stream",
     "text": [
      "\n",
      "\tcos(3*x**3/9)/exp(5*x+1)\n",
      "\n",
      "\texp(-1)-5*x*exp(-1)+25*x**2*exp(-1)/2-125*x**3*exp(-1)/6+625*x**4*exp(-1)/24\n",
      "\n"
     ]
    }
   ],
   "source": [
    "import seq2sequtil as sq\n",
    "inputs, targets = sq.loadData('data/seq2seq_data_10000.txt')\n",
    "print(inputs[8000])\n",
    "print(targets[8000])"
   ]
  },
  {
   "cell_type": "markdown",
   "metadata": {},
   "source": [
    "### Check data preparer"
   ]
  },
  {
   "cell_type": "code",
   "execution_count": 5,
   "metadata": {},
   "outputs": [
    {
     "name": "stdout",
     "output_type": "stream",
     "text": [
      "number of seq-pairs (train):     8000\n",
      "number of seq-pairs (valid):     1000\n",
      "number of seq-pairs (test):      1000\n",
      "\n",
      "number of source tokens:           31\n",
      "max source sequence length:        81\n",
      "\n",
      "number of target tokens:           35\n",
      "max target sequence length:       883\n"
     ]
    }
   ],
   "source": [
    "fractions=[8/10, 9/10]\n",
    "db = sq.Seq2SeqDataPreparer(inputs, targets, fractions)\n",
    "print(db)"
   ]
  },
  {
   "cell_type": "markdown",
   "metadata": {},
   "source": [
    "### Check data loader and its reset() method"
   ]
  },
  {
   "cell_type": "code",
   "execution_count": 6,
   "metadata": {},
   "outputs": [],
   "source": [
    "N_TRAIN = 100\n",
    "BATCH_SIZE = 10\n",
    "train_loader = sq.Seq2SeqDataLoader(db.x_train[:,:N_TRAIN], \n",
    "                                    db.y_train[:,:N_TRAIN], \n",
    "                                    BATCH_SIZE)"
   ]
  },
  {
   "cell_type": "code",
   "execution_count": 7,
   "metadata": {},
   "outputs": [
    {
     "name": "stdout",
     "output_type": "stream",
     "text": [
      "torch.Size([81, 10])\n",
      "tensor([[ 0,  0,  0,  0,  0,  0,  0,  0,  0,  0],\n",
      "        [28,  3,  3, 28, 28,  7,  7, 24,  7,  3],\n",
      "        [23, 14, 14, 23, 23, 21,  3, 25, 21, 10],\n",
      "        [25,  5,  5, 25, 25, 30, 16,  3, 30,  5],\n",
      "        [22, 30, 30,  3, 22, 27,  5, 15, 27, 30]])\n",
      "torch.Size([81, 10])\n",
      "tensor([[ 0,  0,  0,  0,  0,  0,  0,  0,  0,  0],\n",
      "        [ 3,  3,  7,  7,  7, 28, 28,  7,  7,  7],\n",
      "        [17, 14,  3,  3,  3, 23, 23,  3, 20,  3],\n",
      "        [ 5,  5, 12, 14, 10, 25, 25, 11, 26, 13],\n",
      "        [30, 30,  5,  5,  5,  3, 22,  5, 28,  5]])\n"
     ]
    }
   ],
   "source": [
    "train_loader.reset()\n",
    "for i, (X, Y) in enumerate(train_loader):\n",
    "    print(X.shape)\n",
    "    print(X[:5,:])\n",
    "    if i >= 1: break"
   ]
  },
  {
   "cell_type": "code",
   "execution_count": 8,
   "metadata": {},
   "outputs": [
    {
     "name": "stdout",
     "output_type": "stream",
     "text": [
      "torch.Size([81, 10])\n",
      "tensor([[ 0,  0,  0,  0,  0,  0,  0,  0,  0,  0],\n",
      "        [28,  3,  3, 28, 28,  7,  7, 24,  7,  3],\n",
      "        [23, 14, 14, 23, 23, 21,  3, 25, 21, 10],\n",
      "        [25,  5,  5, 25, 25, 30, 16,  3, 30,  5],\n",
      "        [22, 30, 30,  3, 22, 27,  5, 15, 27, 30]])\n",
      "torch.Size([81, 10])\n",
      "tensor([[ 0,  0,  0,  0,  0,  0,  0,  0,  0,  0],\n",
      "        [ 3,  3,  7,  7,  7, 28, 28,  7,  7,  7],\n",
      "        [17, 14,  3,  3,  3, 23, 23,  3, 20,  3],\n",
      "        [ 5,  5, 12, 14, 10, 25, 25, 11, 26, 13],\n",
      "        [30, 30,  5,  5,  5,  3, 22,  5, 28,  5]])\n"
     ]
    }
   ],
   "source": [
    "train_loader.reset()\n",
    "for i, (X, Y) in enumerate(train_loader):\n",
    "    print(X.shape)\n",
    "    print(X[:5,:])\n",
    "    if i >= 1: break"
   ]
  },
  {
   "cell_type": "code",
   "execution_count": null,
   "metadata": {},
   "outputs": [],
   "source": []
  },
  {
   "cell_type": "code",
   "execution_count": null,
   "metadata": {},
   "outputs": [],
   "source": []
  }
 ],
 "metadata": {
  "colab": {
   "name": "seq2seq_data_generator.ipynb",
   "provenance": []
  },
  "kernelspec": {
   "display_name": "Python 3",
   "language": "python",
   "name": "python3"
  },
  "language_info": {
   "codemirror_mode": {
    "name": "ipython",
    "version": 3
   },
   "file_extension": ".py",
   "mimetype": "text/x-python",
   "name": "python",
   "nbconvert_exporter": "python",
   "pygments_lexer": "ipython3",
   "version": "3.8.8"
  }
 },
 "nbformat": 4,
 "nbformat_minor": 1
}
