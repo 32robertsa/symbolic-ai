{
 "cells": [
  {
   "cell_type": "markdown",
   "metadata": {
    "id": "fELG9vDJuJdc"
   },
   "source": [
    "# seq2seq: Generate Data\n",
    "\n",
    "Abdulhakim Alnuqaydan, Ali Kadhim, Sergei Gleyzer, Harrison Prosper\n",
    "\n",
    "July 2021\n",
    "\n",
    "## Description\n",
    "\n",
    "Generate random symbol mathematical expressions $f(x)$ and use __sympy__ to find their Taylor series expansions to ${\\cal O}(x^5)$."
   ]
  },
  {
   "cell_type": "code",
   "execution_count": 1,
   "metadata": {
    "id": "GwFXx5YluJde"
   },
   "outputs": [],
   "source": [
    "import sympy as sp\n",
    "import numpy as np\n",
    "import random as rn\n",
    "from sympy import exp, \\\n",
    "    cos, sin, tan, \\\n",
    "    cosh, sinh, tanh, ln\n",
    "\n",
    "from IPython.display import display\n",
    "    \n",
    "# enable pretty printing of equations\n",
    "sp.init_printing(use_latex='mathjax')"
   ]
  },
  {
   "cell_type": "code",
   "execution_count": 2,
   "metadata": {
    "colab": {
     "base_uri": "https://localhost:8080/"
    },
    "id": "qTWYqrekuJde",
    "outputId": "b9c2a0b8-9a09-479f-cf85-247db30727d0"
   },
   "outputs": [
    {
     "name": "stdout",
     "output_type": "stream",
     "text": [
      "Mounted at /content/gdrive\n"
     ]
    }
   ],
   "source": [
    "from google.colab import drive \n",
    "drive.mount('/content/gdrive') "
   ]
  },
  {
   "cell_type": "code",
   "execution_count": 3,
   "metadata": {
    "id": "EvmoUxfYuJdf"
   },
   "outputs": [],
   "source": [
    "BASE = '/content/gdrive/My Drive/AI'"
   ]
  },
  {
   "cell_type": "code",
   "execution_count": 4,
   "metadata": {
    "id": "CBar4vwUuJdf"
   },
   "outputs": [],
   "source": [
    "v = ['x', 'x**2', 'x**3']\n",
    "s = ['+', '-', '/']\n",
    "n = ['1', '2', '3', '4', '5', '6', '7', '8', '9']\n",
    "f = ['exp', 'exp', 'exp',\n",
    "     'sin', 'cos', 'tan', \n",
    "     'sinh','cosh','tanh',\n",
    "     'ln']\n",
    "x = sp.Symbol('x')"
   ]
  },
  {
   "cell_type": "code",
   "execution_count": 5,
   "metadata": {
    "id": "GuYvm7ZyuJdf"
   },
   "outputs": [],
   "source": [
    "def pprint(expr):\n",
    "    display(eval(expr))"
   ]
  },
  {
   "cell_type": "code",
   "execution_count": 6,
   "metadata": {
    "id": "MKdhcYIvuJdg"
   },
   "outputs": [],
   "source": [
    "def generate_arg():\n",
    "    a  = n[r.randint(1,len(n)-1)] + '*'\n",
    "    a += v[r.randint(0,len(v)-1)]\n",
    "    c  = s[r.randint(0,len(s)-1)]\n",
    "    k  = n[r.randint(0,len(n)-1)]\n",
    "    a += '' if c == '/' and k == '1' else c + k\n",
    "    return a"
   ]
  },
  {
   "cell_type": "code",
   "execution_count": 7,
   "metadata": {
    "id": "V9Qhpba5uJdg"
   },
   "outputs": [],
   "source": [
    "def data_generator(N):\n",
    "    datafile = \"%s/data/seq2seq_data.txt\" % BASE\n",
    "    X = []\n",
    "    Y = []\n",
    "    m = 0\n",
    "    for n in range(N):\n",
    "        expr = ''\n",
    "        K = r.randint(1,3)\n",
    "        for k in range(K):\n",
    "            a = generate_arg()\n",
    "            i = r.randint(0, len(f)-1)\n",
    "            j = r.randint(0,1)\n",
    "            if j == 0:\n",
    "                b = '%s(-%s)' % (f[i], a)\n",
    "            else:\n",
    "                b = '%s(%s)' % (f[i], a)\n",
    "    \n",
    "            i = r.randint(0, len(s)-1)\n",
    "            j = r.randint(0,1)\n",
    "            if j == 0:\n",
    "                a = '(%s)*' % generate_arg()\n",
    "            else:\n",
    "                a = ''\n",
    "            expr = expr + s[i] + a + b\n",
    "        if expr[0] in ['+', '/']:\n",
    "            expr = expr[1:]\n",
    "            \n",
    "        # expand in Taylor series\n",
    "        try:\n",
    "            y_expr = str(sp.series(expr, x, n=5))\n",
    "            y_expr = y_expr.replace(' + O(x**5)', '')\n",
    "        except:\n",
    "            continue\n",
    "\n",
    "        open(datafile, 'a').write('%s\\t%s\\n' % (expr, y_expr))\n",
    "        if m % 500 == 0:\n",
    "            print('%10d\\t%10d' % (n, m))\n",
    "        m += 1\n",
    "        "
   ]
  },
  {
   "cell_type": "code",
   "execution_count": 8,
   "metadata": {
    "colab": {
     "base_uri": "https://localhost:8080/"
    },
    "id": "2cbZXI-SuJdg",
    "outputId": "f1a48353-3a14-40da-aafa-fdbf8f8531ac"
   },
   "outputs": [
    {
     "name": "stdout",
     "output_type": "stream",
     "text": [
      "         0\t         0\n",
      "       500\t       500\n",
      "      1007\t      1000\n",
      "      1509\t      1500\n",
      "      2010\t      2000\n",
      "      2512\t      2500\n",
      "      3019\t      3000\n",
      "      3521\t      3500\n",
      "      4022\t      4000\n",
      "      4524\t      4500\n",
      "      5026\t      5000\n",
      "      5529\t      5500\n",
      "      6033\t      6000\n",
      "      6534\t      6500\n",
      "      7038\t      7000\n",
      "      7541\t      7500\n",
      "      8045\t      8000\n",
      "      8546\t      8500\n",
      "      9050\t      9000\n",
      "      9555\t      9500\n",
      "     10058\t     10000\n",
      "     10562\t     10500\n",
      "     11065\t     11000\n",
      "     11566\t     11500\n",
      "     12071\t     12000\n",
      "     12574\t     12500\n",
      "     13078\t     13000\n",
      "     13581\t     13500\n",
      "     14084\t     14000\n",
      "     14587\t     14500\n",
      "     15092\t     15000\n",
      "     15593\t     15500\n",
      "     16097\t     16000\n",
      "     16600\t     16500\n",
      "     17103\t     17000\n",
      "     17608\t     17500\n",
      "     18115\t     18000\n",
      "     18621\t     18500\n",
      "     19124\t     19000\n",
      "     19626\t     19500\n",
      "     20129\t     20000\n",
      "     20633\t     20500\n",
      "     21135\t     21000\n",
      "     21640\t     21500\n",
      "     22141\t     22000\n",
      "     22642\t     22500\n",
      "     23144\t     23000\n",
      "     23647\t     23500\n",
      "     24153\t     24000\n",
      "     24657\t     24500\n",
      "     25160\t     25000\n",
      "     25661\t     25500\n",
      "     26165\t     26000\n",
      "     26669\t     26500\n",
      "     27174\t     27000\n",
      "     27679\t     27500\n",
      "     28181\t     28000\n",
      "     28682\t     28500\n",
      "     29184\t     29000\n",
      "     29688\t     29500\n",
      "     30194\t     30000\n",
      "     30696\t     30500\n",
      "     31197\t     31000\n",
      "     31701\t     31500\n",
      "     32205\t     32000\n",
      "     32708\t     32500\n",
      "     33214\t     33000\n",
      "     33716\t     33500\n",
      "     34217\t     34000\n",
      "     34718\t     34500\n",
      "     35224\t     35000\n",
      "     35726\t     35500\n",
      "     36229\t     36000\n",
      "     36731\t     36500\n",
      "     37234\t     37000\n",
      "     37736\t     37500\n",
      "     38244\t     38000\n",
      "     38744\t     38500\n",
      "     39247\t     39000\n",
      "     39751\t     39500\n"
     ]
    }
   ],
   "source": [
    "N = 40000\n",
    "data_generator(N)\n",
    "        "
   ]
  },
  {
   "cell_type": "code",
   "execution_count": null,
   "metadata": {
    "id": "Gur9S9MWuJdi"
   },
   "outputs": [],
   "source": []
  },
  {
   "cell_type": "code",
   "execution_count": null,
   "metadata": {
    "id": "s6e4rR-VuJdi"
   },
   "outputs": [],
   "source": []
  }
 ],
 "metadata": {
  "colab": {
   "name": "seq2seq_data_generator.ipynb",
   "provenance": []
  },
  "kernelspec": {
   "display_name": "Python 3",
   "language": "python",
   "name": "python3"
  },
  "language_info": {
   "codemirror_mode": {
    "name": "ipython",
    "version": 3
   },
   "file_extension": ".py",
   "mimetype": "text/x-python",
   "name": "python",
   "nbconvert_exporter": "python",
   "pygments_lexer": "ipython3",
   "version": "3.8.8"
  }
 },
 "nbformat": 4,
 "nbformat_minor": 1
}
